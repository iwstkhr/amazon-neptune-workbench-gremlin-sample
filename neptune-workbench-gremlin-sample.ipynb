{
 "cells": [
  {
   "cell_type": "code",
   "execution_count": null,
   "id": "0725967d",
   "metadata": {},
   "outputs": [],
   "source": [
    "%%gremlin\n",
    "\n",
    "g.V().drop()"
   ]
  },
  {
   "cell_type": "code",
   "execution_count": null,
   "id": "794be36d",
   "metadata": {
    "scrolled": true
   },
   "outputs": [],
   "source": [
    "%%gremlin\n",
    "\n",
    "// Add vertices\n",
    "g.addV('person').property(id, 'A').property(single, 'age', 30)\n",
    " .addV('person').property(id, 'B').property(single, 'age', 25)\n",
    " .addV('person').property(id, 'C').property(single, 'age', 35)\n",
    " .addV('person').property(id, 'D').property(single, 'age', 20)\n",
    " .addV('person').property(id, 'E').property(single, 'age', 18)\n",
    " .addV('person').property(id, 'F').property(single, 'age', 25)\n",
    " .addV('person').property(id, 'G').property(single, 'age', 10)\n",
    " .addV('person').property(id, 'H').property(single, 'age', 15)"
   ]
  },
  {
   "cell_type": "code",
   "execution_count": null,
   "id": "ddfd07b8",
   "metadata": {},
   "outputs": [],
   "source": [
    "%%gremlin\n",
    "\n",
    "// Add edges\n",
    "g.V('A').addE('know').to(g.V('B')).property(single, 'weight', 1.0)\n",
    " .V('A').addE('know').to(g.V('C')).property(single, 'weight', 0.9)\n",
    " .V('A').addE('know').to(g.V('H')).property(single, 'weight', 0.5)\n",
    " .V('B').addE('know').to(g.V('D')).property(single, 'weight', 0.8)\n",
    " .V('B').addE('know').to(g.V('E')).property(single, 'weight', 0.4)\n",
    " .V('C').addE('know').to(g.V('F')).property(single, 'weight', 0.5)\n",
    " .V('C').addE('know').to(g.V('G')).property(single, 'weight', 0.6)\n",
    " .V('D').addE('know').to(g.V('E')).property(single, 'weight', 0.7)\n",
    " .V('H').addE('know').to(g.V('E')).property(single, 'weight', 1.0)\n",
    " .V('H').addE('know').to(g.V('G')).property(single, 'weight', 1.0)"
   ]
  },
  {
   "cell_type": "code",
   "execution_count": null,
   "id": "5fa8e171",
   "metadata": {},
   "outputs": [],
   "source": [
    "%%gremlin\n",
    "\n",
    "// Extract vertices\n",
    "g.V()\n",
    " .project('id', 'properties')\n",
    " .by(id()).by(valueMap())"
   ]
  },
  {
   "cell_type": "code",
   "execution_count": null,
   "id": "f368d59a",
   "metadata": {},
   "outputs": [],
   "source": [
    "%%gremlin\n",
    "\n",
    "// Extract vertices connected to A up to second level and older than 25 years old\n",
    "g.V('A')\n",
    " .repeat(outE().inV()).times(2).emit()\n",
    " .has('age', gte(25))\n",
    " .project('id', 'age')\n",
    " .by(id()).by(values('age'))"
   ]
  },
  {
   "cell_type": "code",
   "execution_count": null,
   "id": "7095f13f",
   "metadata": {},
   "outputs": [],
   "source": [
    "%%gremlin\n",
    "\n",
    "// Extract vertices which are connected to A and have multiplied weight larger than 0.5\n",
    "g.withSack(1.0f).V('A')\n",
    " .repeat(outE().sack(mult).by('weight').inV().simplePath()).emit()\n",
    " .where(sack().is(gt(0.5)))\n",
    " .dedup()\n",
    " .project('id', 'weight')\n",
    " .by(id).by(sack())"
   ]
  },
  {
   "cell_type": "code",
   "execution_count": null,
   "id": "e7a3f03b",
   "metadata": {
    "scrolled": true
   },
   "outputs": [],
   "source": [
    "%%gremlin -d T.id -de weight\n",
    "\n",
    "// Visualize the above example\n",
    "g.withSack(1.0f).V('A')\n",
    " .repeat(outE().sack(mult).by('weight').inV().simplePath()).emit()\n",
    " .where(sack().is(gt(0.5)))\n",
    " .dedup()\n",
    " .path().by(elementMap())"
   ]
  }
 ],
 "metadata": {
  "kernelspec": {
   "display_name": "Python 3",
   "language": "python",
   "name": "python3"
  },
  "language_info": {
   "codemirror_mode": {
    "name": "ipython",
    "version": 3
   },
   "file_extension": ".py",
   "mimetype": "text/x-python",
   "name": "python",
   "nbconvert_exporter": "python",
   "pygments_lexer": "ipython3",
   "version": "3.10.0"
  }
 },
 "nbformat": 4,
 "nbformat_minor": 5
}